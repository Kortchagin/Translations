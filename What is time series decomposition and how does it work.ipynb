{
 "cells": [
  {
   "cell_type": "code",
   "execution_count": null,
   "metadata": {},
   "outputs": [],
   "source": [
    "import pandas as pd\n",
    "import numpy as np\n",
    "import math\n",
    "from matplotlib import pyplot as plt"
   ]
  },
  {
   "cell_type": "code",
   "execution_count": null,
   "metadata": {},
   "outputs": [],
   "source": [
    "#construct the date parser\n",
    "mydateparser = lambda x: pd.datetime.strptime(x, '%d-%m-%y')\n",
    "\n",
    "#load the data set into a pandas data frame\n",
    "df = pd.read_csv('retail_sales_used_car_dealers_us_1992_2020.csv', header=0, index_col=0, parse_dates=['DATE'], date_parser=mydateparser)\n",
    "\n",
    "#plot the data set\n",
    "fig = plt.figure()\n",
    "fig.suptitle('Retail sales of used car dealers in the US in millions of dollars')\n",
    "df['Retail_Sales'].plot()\n",
    "plt.show()"
   ]
  },
  {
   "cell_type": "code",
   "execution_count": null,
   "metadata": {},
   "outputs": [],
   "source": [
    "#add a column containing a 2 x 12 centered moving average. this column will capture the trend component in the time series\n",
    "df['2 x 12 CMA (TREND)'] = np.nan\n",
    "for i in range(6,df['Retail_Sales'].size-6):\n",
    "    df['2 x 12 CMA (TREND)'][i] = df['Retail_Sales'][i - 6] * 1.0 / 24 + (\n",
    "            df['Retail_Sales'][i - 5] + \n",
    "            df['Retail_Sales'][i - 4] + \n",
    "            df['Retail_Sales'][i - 3] + \n",
    "            df['Retail_Sales'][i - 2] + \n",
    "            df['Retail_Sales'][i - 1] + \n",
    "            df['Retail_Sales'][i] + \n",
    "            df['Retail_Sales'][i + 1] + \n",
    "            df['Retail_Sales'][i + 2] + \n",
    "            df['Retail_Sales'][i + 3] + \n",
    "            df['Retail_Sales'][i + 4] + \n",
    "            df['Retail_Sales'][i + 5]\n",
    "        ) * 1.0 / 12 + df['Retail_Sales'][i + 6] * 1.0 / 24"
   ]
  },
  {
   "cell_type": "code",
   "execution_count": null,
   "metadata": {},
   "outputs": [],
   "source": [
    "#plot the trend component\n",
    "fig = plt.figure()\n",
    "fig.suptitle('TREND component of Retail sales of used car dealers in the US in millions of dollars')\n",
    "df['2 x 12 CMA (TREND)'].plot()\n",
    "plt.show()"
   ]
  },
  {
   "cell_type": "code",
   "execution_count": null,
   "metadata": {},
   "outputs": [],
   "source": [
    "df['SEASONALITY AND NOISE'] = df['Retail_Sales']/df['2 x 12 CMA (TREND)']\n",
    "\n",
    "#plot the seasonality and noise components\n",
    "fig = plt.figure()\n",
    "fig.suptitle('SEASONALITY and NOISE components')\n",
    "plt.ylim(0, 1.3)\n",
    "df['SEASONALITY AND NOISE'].plot()\n",
    "plt.show()"
   ]
  },
  {
   "cell_type": "code",
   "execution_count": null,
   "metadata": {},
   "outputs": [],
   "source": [
    "#calculate the average seasonal component for each month\n",
    "\n",
    "#first add a month column\n",
    "df['MONTH'] = df.index.strftime('%m').astype(np.int)\n",
    "\n",
    "#initialize the month based dictionaries to store the running total of themonth wise  seasonal sums and counts\n",
    "average_seasonal_values = {1:0, 2:0, 3:0, 4:0, 5:0, 6:0, 7:0, 8:0, 9:0, 10:0, 11:0, 12:0}\n",
    "average_seasonal_value_counts = {1:0, 2:0, 3:0, 4:0, 5:0, 6:0, 7:0, 8:0, 9:0, 10:0, 11:0, 12:0}\n",
    "\n",
    "#calculate the sums and counts\n",
    "for i in range(0, df['SEASONALITY AND NOISE'].size):\n",
    "    if math.isnan(df['SEASONALITY AND NOISE'][i]) is False:\n",
    "        average_seasonal_values[df['MONTH'][i]] = average_seasonal_values[df['MONTH'][i]] + df['SEASONALITY AND NOISE'][i]\n",
    "        average_seasonal_value_counts[df['MONTH'][i]] = average_seasonal_value_counts[df['MONTH'][i]] + 1\n",
    "\n",
    "#calculate the average seasonal component for each month\n",
    "for i in range(1, 13):\n",
    "    average_seasonal_values[i] = average_seasonal_values[i] / average_seasonal_value_counts[i]\n",
    "\n",
    "#create a new column in the data frame and fill it with the value of the average seasonal component for the corresponding month\n",
    "df['SEASONALITY'] = np.nan\n",
    "for i in range(0, df['SEASONALITY AND NOISE'].size):\n",
    "    if math.isnan(df['SEASONALITY AND NOISE'][i]) is False:\n",
    "        df['SEASONALITY'][i] = average_seasonal_values[df['MONTH'][i]]"
   ]
  },
  {
   "cell_type": "code",
   "execution_count": null,
   "metadata": {},
   "outputs": [],
   "source": [
    "#plot the seasonal component\n",
    "fig = plt.figure()\n",
    "fig.suptitle('The \\'Pure\\' SEASONAL component')\n",
    "plt.ylim(0, 1.3)\n",
    "df['SEASONALITY'].plot()\n",
    "plt.show()"
   ]
  },
  {
   "cell_type": "code",
   "execution_count": null,
   "metadata": {},
   "outputs": [],
   "source": [
    "df['NOISE'] = df['SEASONALITY AND NOISE']/df['SEASONALITY']\n",
    "\n",
    "#plot the noise component\n",
    "fig = plt.figure()\n",
    "fig.suptitle('The NOISE component')\n",
    "plt.ylim(0, 1.3)\n",
    "df['NOISE'].plot()\n",
    "plt.show()"
   ]
  },
  {
   "cell_type": "code",
   "execution_count": null,
   "metadata": {},
   "outputs": [],
   "source": [
    "#Do all of the above using  one line of code!\n",
    "from statsmodels.tsa.seasonal import seasonal_decompose\n",
    "components = seasonal_decompose(df['Retail_Sales'], model='multiplicative')\n",
    "components.plot()\n",
    "plt.show()"
   ]
  }
 ],
 "metadata": {
  "kernelspec": {
   "display_name": "Python 3",
   "language": "python",
   "name": "python3"
  },
  "language_info": {
   "codemirror_mode": {
    "name": "ipython",
    "version": 3
   },
   "file_extension": ".py",
   "mimetype": "text/x-python",
   "name": "python",
   "nbconvert_exporter": "python",
   "pygments_lexer": "ipython3",
   "version": "3.8.3"
  }
 },
 "nbformat": 4,
 "nbformat_minor": 4
}
