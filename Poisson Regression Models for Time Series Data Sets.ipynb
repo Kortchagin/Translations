{
 "cells": [
  {
   "cell_type": "markdown",
   "metadata": {},
   "source": [
    "# Poisson Regression Models for Time Series Data Sets"
   ]
  },
  {
   "cell_type": "code",
   "execution_count": 1,
   "metadata": {},
   "outputs": [],
   "source": [
    "import statsmodels.api as sm\n",
    "import statsmodels.discrete.discrete_model as dm\n",
    "import numpy as np\n",
    "from patsy import dmatrices\n",
    "import statsmodels.graphics.tsaplots as tsa\n",
    "from matplotlib import pyplot as plt"
   ]
  },
  {
   "cell_type": "code",
   "execution_count": 2,
   "metadata": {},
   "outputs": [],
   "source": [
    "strikes_dataset = sm.datasets.get_rdataset(dataname='StrikeNb', package='Ecdat')"
   ]
  },
  {
   "cell_type": "code",
   "execution_count": 3,
   "metadata": {
    "scrolled": true
   },
   "outputs": [
    {
     "name": "stdout",
     "output_type": "stream",
     "text": [
      "     strikes   output  time\n",
      "0          5  0.01517     1\n",
      "1          4  0.00997     2\n",
      "2          6  0.01170     3\n",
      "3         16  0.00473     4\n",
      "4          5  0.01277     5\n",
      "..       ...      ...   ...\n",
      "103        3  0.00134   104\n",
      "104        4 -0.12810   105\n",
      "105        6 -0.01538   106\n",
      "106        2 -0.00703   107\n",
      "107        3 -0.00003   108\n",
      "\n",
      "[108 rows x 3 columns]\n"
     ]
    }
   ],
   "source": [
    "print(strikes_dataset.data)"
   ]
  },
  {
   "cell_type": "code",
   "execution_count": 4,
   "metadata": {},
   "outputs": [],
   "source": [
    "strikes_data = strikes_dataset.data.copy()\n",
    "strikes_data_train = strikes_data.query('time<=92')\n",
    "strikes_data_test = strikes_data.query('time>92').reset_index().drop('index', axis=1)"
   ]
  },
  {
   "cell_type": "code",
   "execution_count": 5,
   "metadata": {},
   "outputs": [
    {
     "name": "stdout",
     "output_type": "stream",
     "text": [
      "Mean=5.5 Variance=14.728260869565217\n"
     ]
    }
   ],
   "source": [
    "print('Mean='+str(np.mean(strikes_data_train['strikes'])) + ' Variance='+str(np.var(strikes_data_train['strikes'])))"
   ]
  },
  {
   "cell_type": "code",
   "execution_count": 6,
   "metadata": {},
   "outputs": [],
   "source": [
    "expr = 'strikes ~ output'"
   ]
  },
  {
   "cell_type": "code",
   "execution_count": 7,
   "metadata": {},
   "outputs": [
    {
     "name": "stdout",
     "output_type": "stream",
     "text": [
      "    strikes\n",
      "0       5.0\n",
      "1       4.0\n",
      "2       6.0\n",
      "3      16.0\n",
      "4       5.0\n",
      "..      ...\n",
      "87      2.0\n",
      "88      1.0\n",
      "89      2.0\n",
      "90      2.0\n",
      "91      3.0\n",
      "\n",
      "[92 rows x 1 columns]\n",
      "    Intercept   output\n",
      "0         1.0  0.01517\n",
      "1         1.0  0.00997\n",
      "2         1.0  0.01170\n",
      "3         1.0  0.00473\n",
      "4         1.0  0.01277\n",
      "..        ...      ...\n",
      "87        1.0 -0.12590\n",
      "88        1.0 -0.12224\n",
      "89        1.0 -0.10443\n",
      "90        1.0 -0.08656\n",
      "91        1.0 -0.06279\n",
      "\n",
      "[92 rows x 2 columns]\n",
      "    strikes\n",
      "0       0.0\n",
      "1       5.0\n",
      "2       5.0\n",
      "3       1.0\n",
      "4       1.0\n",
      "5       1.0\n",
      "6       1.0\n",
      "7       8.0\n",
      "8       5.0\n",
      "9       9.0\n",
      "10      6.0\n",
      "11      3.0\n",
      "12      4.0\n",
      "13      6.0\n",
      "14      2.0\n",
      "15      3.0\n",
      "    Intercept   output\n",
      "0         1.0 -0.06034\n",
      "1         1.0 -0.05790\n",
      "2         1.0 -0.04919\n",
      "3         1.0 -0.04494\n",
      "4         1.0 -0.02700\n",
      "5         1.0 -0.00601\n",
      "6         1.0 -0.00693\n",
      "7         1.0 -0.00528\n",
      "8         1.0 -0.00155\n",
      "9         1.0 -0.00700\n",
      "10        1.0 -0.00157\n",
      "11        1.0  0.00134\n",
      "12        1.0 -0.12810\n",
      "13        1.0 -0.01538\n",
      "14        1.0 -0.00703\n",
      "15        1.0 -0.00003\n"
     ]
    }
   ],
   "source": [
    "y_train, X_train = dmatrices(expr, strikes_data_train, return_type='dataframe')\n",
    "print(y_train)\n",
    "print(X_train)\n",
    "\n",
    "y_test, X_test = dmatrices(expr, strikes_data_test, return_type='dataframe')\n",
    "print(y_test)\n",
    "print(X_test)"
   ]
  },
  {
   "cell_type": "code",
   "execution_count": 8,
   "metadata": {},
   "outputs": [
    {
     "name": "stdout",
     "output_type": "stream",
     "text": [
      "Optimization terminated successfully.\n",
      "         Current function value: 2.634126\n",
      "         Iterations: 12\n",
      "         Function evaluations: 14\n",
      "         Gradient evaluations: 14\n",
      "                     NegativeBinomial Regression Results                      \n",
      "==============================================================================\n",
      "Dep. Variable:                strikes   No. Observations:                   92\n",
      "Model:               NegativeBinomial   Df Residuals:                       90\n",
      "Method:                           MLE   Df Model:                            1\n",
      "Date:                Sat, 26 Jun 2021   Pseudo R-squ.:                0.009002\n",
      "Time:                        16:28:57   Log-Likelihood:                -242.34\n",
      "converged:                       True   LL-Null:                       -244.54\n",
      "Covariance Type:            nonrobust   LLR p-value:                   0.03589\n",
      "==============================================================================\n",
      "                 coef    std err          z      P>|z|      [0.025      0.975]\n",
      "------------------------------------------------------------------------------\n",
      "Intercept      1.6920      0.073     23.066      0.000       1.548       1.836\n",
      "output         2.8820      1.357      2.124      0.034       0.222       5.542\n",
      "alpha          0.3085      0.076      4.039      0.000       0.159       0.458\n",
      "==============================================================================\n"
     ]
    }
   ],
   "source": [
    "nb2_model = dm.NegativeBinomial(endog=y_train, exog=X_train, loglike_method='nb2')\n",
    "nb2_model_results = nb2_model.fit(maxiter=100)\n",
    "print(nb2_model_results.summary())"
   ]
  },
  {
   "cell_type": "code",
   "execution_count": 9,
   "metadata": {},
   "outputs": [
    {
     "data": {
      "image/png": "[encoded data removed]",
      "text/plain": [
       "<Figure size 432x288 with 1 Axes>"
      ]
     },
     "metadata": {
      "needs_background": "light"
     },
     "output_type": "display_data"
    }
   ],
   "source": [
    "# Нет кода в статье. Только картинка\n",
    "tsa.plot_acf(nb2_model_results.resid, alpha=0.05)\n",
    "plt.show()"
   ]
  },
  {
   "cell_type": "markdown",
   "metadata": {},
   "source": [
    "# Building an Auto-regressive Poisson model"
   ]
  },
  {
   "cell_type": "code",
   "execution_count": 10,
   "metadata": {},
   "outputs": [],
   "source": [
    "strikes_data['strikes_adj'] = np.maximum(1, strikes_data['strikes'])"
   ]
  },
  {
   "cell_type": "code",
   "execution_count": 11,
   "metadata": {},
   "outputs": [],
   "source": [
    "def indicator_func(x):\n",
    "    if x == 0:\n",
    "        return 1\n",
    "    else:\n",
    "        return 0"
   ]
  },
  {
   "cell_type": "code",
   "execution_count": 12,
   "metadata": {},
   "outputs": [],
   "source": [
    "strikes_data['d'] = strikes_data['strikes'].apply(indicator_func)"
   ]
  },
  {
   "cell_type": "code",
   "execution_count": 13,
   "metadata": {},
   "outputs": [],
   "source": [
    "strikes_data['ln_strikes_adj_lag1'] = strikes_data['strikes_adj'].shift(1)\n",
    "strikes_data['ln_strikes_adj_lag2'] = strikes_data['strikes_adj'].shift(2)\n",
    "strikes_data['ln_strikes_adj_lag3'] = strikes_data['strikes_adj'].shift(3)\n",
    "\n",
    "strikes_data['d_lag1'] = strikes_data['d'].shift(1)\n",
    "strikes_data['d_lag2'] = strikes_data['d'].shift(2)\n",
    "strikes_data['d_lag3'] = strikes_data['d'].shift(3)"
   ]
  },
  {
   "cell_type": "code",
   "execution_count": 14,
   "metadata": {},
   "outputs": [],
   "source": [
    "strikes_data = strikes_data.dropna()"
   ]
  },
  {
   "cell_type": "code",
   "execution_count": 15,
   "metadata": {},
   "outputs": [],
   "source": [
    "# Нет кода в статье.\n",
    "strikes_data['ln_strikes_adj_lag1'] = np.log(strikes_data['ln_strikes_adj_lag1'])"
   ]
  },
  {
   "cell_type": "code",
   "execution_count": 16,
   "metadata": {},
   "outputs": [],
   "source": [
    "# Нет кода в статье.\n",
    "strikes_data['ln_strikes_adj_lag2'] = np.log(strikes_data['ln_strikes_adj_lag2'])"
   ]
  },
  {
   "cell_type": "code",
   "execution_count": 17,
   "metadata": {},
   "outputs": [],
   "source": [
    "# Нет кода в статье.\n",
    "strikes_data['ln_strikes_adj_lag3'] = np.log(strikes_data['ln_strikes_adj_lag3'])"
   ]
  },
  {
   "cell_type": "code",
   "execution_count": 18,
   "metadata": {},
   "outputs": [
    {
     "name": "stdout",
     "output_type": "stream",
     "text": [
      "     strikes   output  time  strikes_adj  d  ln_strikes_adj_lag1  \\\n",
      "3         16  0.00473     4           16  0             1.791759   \n",
      "4          5  0.01277     5            5  0             2.772589   \n",
      "5          8  0.01138     6            8  0             1.609438   \n",
      "6          8  0.00424     7            8  0             2.079442   \n",
      "7          9 -0.00687     8            9  0             2.079442   \n",
      "..       ...      ...   ...          ... ..                  ...   \n",
      "103        3  0.00134   104            3  0             1.791759   \n",
      "104        4 -0.12810   105            4  0             1.098612   \n",
      "105        6 -0.01538   106            6  0             1.386294   \n",
      "106        2 -0.00703   107            2  0             1.791759   \n",
      "107        3 -0.00003   108            3  0             0.693147   \n",
      "\n",
      "     ln_strikes_adj_lag2  ln_strikes_adj_lag3  d_lag1  d_lag2  d_lag3  \n",
      "3               1.386294             1.609438     0.0     0.0     0.0  \n",
      "4               1.791759             1.386294     0.0     0.0     0.0  \n",
      "5               2.772589             1.791759     0.0     0.0     0.0  \n",
      "6               1.609438             2.772589     0.0     0.0     0.0  \n",
      "7               2.079442             1.609438     0.0     0.0     0.0  \n",
      "..                   ...                  ...     ...     ...     ...  \n",
      "103             2.197225             1.609438     0.0     0.0     0.0  \n",
      "104             1.791759             2.197225     0.0     0.0     0.0  \n",
      "105             1.098612             1.791759     0.0     0.0     0.0  \n",
      "106             1.386294             1.098612     0.0     0.0     0.0  \n",
      "107             1.791759             1.386294     0.0     0.0     0.0  \n",
      "\n",
      "[105 rows x 11 columns]\n"
     ]
    }
   ],
   "source": [
    "print(strikes_data)"
   ]
  },
  {
   "cell_type": "code",
   "execution_count": 19,
   "metadata": {},
   "outputs": [],
   "source": [
    "strikes_data_train=strikes_data.query('time<=92')\n",
    "strikes_data_test=strikes_data.query('time>92').reset_index().drop('index', axis=1)"
   ]
  },
  {
   "cell_type": "code",
   "execution_count": 20,
   "metadata": {},
   "outputs": [],
   "source": [
    "expr = 'strikes ~ output + ln_strikes_adj_lag1 + ln_strikes_adj_lag2 + ln_strikes_adj_lag3 + d_lag1 + d_lag2 + d_lag3'"
   ]
  },
  {
   "cell_type": "code",
   "execution_count": 21,
   "metadata": {},
   "outputs": [
    {
     "name": "stdout",
     "output_type": "stream",
     "text": [
      "    strikes\n",
      "3      16.0\n",
      "4       5.0\n",
      "5       8.0\n",
      "6       8.0\n",
      "7       9.0\n",
      "..      ...\n",
      "87      2.0\n",
      "88      1.0\n",
      "89      2.0\n",
      "90      2.0\n",
      "91      3.0\n",
      "\n",
      "[89 rows x 1 columns]\n",
      "    Intercept   output  ln_strikes_adj_lag1  ln_strikes_adj_lag2  \\\n",
      "3         1.0  0.00473             1.791759             1.386294   \n",
      "4         1.0  0.01277             2.772589             1.791759   \n",
      "5         1.0  0.01138             1.609438             2.772589   \n",
      "6         1.0  0.00424             2.079442             1.609438   \n",
      "7         1.0 -0.00687             2.079442             2.079442   \n",
      "..        ...      ...                  ...                  ...   \n",
      "87        1.0 -0.12590             1.386294             1.098612   \n",
      "88        1.0 -0.12224             0.693147             1.386294   \n",
      "89        1.0 -0.10443             0.000000             0.693147   \n",
      "90        1.0 -0.08656             0.693147             0.000000   \n",
      "91        1.0 -0.06279             0.693147             0.693147   \n",
      "\n",
      "    ln_strikes_adj_lag3  d_lag1  d_lag2  d_lag3  \n",
      "3              1.609438     0.0     0.0     0.0  \n",
      "4              1.386294     0.0     0.0     0.0  \n",
      "5              1.791759     0.0     0.0     0.0  \n",
      "6              2.772589     0.0     0.0     0.0  \n",
      "7              1.609438     0.0     0.0     0.0  \n",
      "..                  ...     ...     ...     ...  \n",
      "87             1.098612     0.0     0.0     0.0  \n",
      "88             1.098612     0.0     0.0     0.0  \n",
      "89             1.386294     0.0     0.0     0.0  \n",
      "90             0.693147     0.0     0.0     0.0  \n",
      "91             0.000000     0.0     0.0     0.0  \n",
      "\n",
      "[89 rows x 8 columns]\n"
     ]
    }
   ],
   "source": [
    "y_train, X_train = dmatrices(expr, strikes_data_train, return_type='dataframe')\n",
    "print(y_train)\n",
    "print(X_train)"
   ]
  },
  {
   "cell_type": "code",
   "execution_count": 22,
   "metadata": {},
   "outputs": [
    {
     "name": "stdout",
     "output_type": "stream",
     "text": [
      "Optimization terminated successfully.\n",
      "         Current function value: 2.566112\n",
      "         Iterations 6\n",
      "                          Poisson Regression Results                          \n",
      "==============================================================================\n",
      "Dep. Variable:                strikes   No. Observations:                   89\n",
      "Model:                        Poisson   Df Residuals:                       81\n",
      "Method:                           MLE   Df Model:                            7\n",
      "Date:                Sat, 26 Jun 2021   Pseudo R-squ.:                  0.1569\n",
      "Time:                        16:28:58   Log-Likelihood:                -228.38\n",
      "converged:                       True   LL-Null:                       -270.90\n",
      "Covariance Type:            nonrobust   LLR p-value:                 1.295e-15\n",
      "=======================================================================================\n",
      "                          coef    std err          z      P>|z|      [0.025      0.975]\n",
      "---------------------------------------------------------------------------------------\n",
      "Intercept               0.7038      0.154      4.573      0.000       0.402       1.005\n",
      "output                  2.0911      0.887      2.357      0.018       0.352       3.830\n",
      "ln_strikes_adj_lag1     0.3260      0.082      3.969      0.000       0.165       0.487\n",
      "ln_strikes_adj_lag2     0.2045      0.083      2.469      0.014       0.042       0.367\n",
      "ln_strikes_adj_lag3     0.0929      0.079      1.182      0.237      -0.061       0.247\n",
      "d_lag1                  0.2291      0.297      0.772      0.440      -0.353       0.811\n",
      "d_lag2                  0.1328      0.302      0.440      0.660      -0.459       0.724\n",
      "d_lag3                 -0.1157      0.319     -0.363      0.717      -0.740       0.509\n",
      "=======================================================================================\n"
     ]
    }
   ],
   "source": [
    "poisson_model = dm.Poisson(endog=y_train, exog=X_train)\n",
    "poisson_model_results = poisson_model.fit(maxiter=100)\n",
    "print(poisson_model_results.summary())"
   ]
  },
  {
   "cell_type": "code",
   "execution_count": 23,
   "metadata": {},
   "outputs": [
    {
     "data": {
      "image/png": "[encoded data removed]",
      "text/plain": [
       "<Figure size 432x288 with 1 Axes>"
      ]
     },
     "metadata": {
      "needs_background": "light"
     },
     "output_type": "display_data"
    }
   ],
   "source": [
    "tsa.plot_acf(poisson_model_results.resid, alpha=0.05)\n",
    "plt.show()"
   ]
  },
  {
   "cell_type": "code",
   "execution_count": 24,
   "metadata": {},
   "outputs": [
    {
     "name": "stdout",
     "output_type": "stream",
     "text": [
      "    strikes\n",
      "0       0.0\n",
      "1       5.0\n",
      "2       5.0\n",
      "3       1.0\n",
      "4       1.0\n",
      "5       1.0\n",
      "6       1.0\n",
      "7       8.0\n",
      "8       5.0\n",
      "9       9.0\n",
      "10      6.0\n",
      "11      3.0\n",
      "12      4.0\n",
      "13      6.0\n",
      "14      2.0\n",
      "15      3.0\n",
      "    Intercept   output  ln_strikes_adj_lag1  ln_strikes_adj_lag2  \\\n",
      "0         1.0 -0.06034             1.098612             0.693147   \n",
      "1         1.0 -0.05790             0.000000             1.098612   \n",
      "2         1.0 -0.04919             1.609438             0.000000   \n",
      "3         1.0 -0.04494             1.609438             1.609438   \n",
      "4         1.0 -0.02700             0.000000             1.609438   \n",
      "5         1.0 -0.00601             0.000000             0.000000   \n",
      "6         1.0 -0.00693             0.000000             0.000000   \n",
      "7         1.0 -0.00528             0.000000             0.000000   \n",
      "8         1.0 -0.00155             2.079442             0.000000   \n",
      "9         1.0 -0.00700             1.609438             2.079442   \n",
      "10        1.0 -0.00157             2.197225             1.609438   \n",
      "11        1.0  0.00134             1.791759             2.197225   \n",
      "12        1.0 -0.12810             1.098612             1.791759   \n",
      "13        1.0 -0.01538             1.386294             1.098612   \n",
      "14        1.0 -0.00703             1.791759             1.386294   \n",
      "15        1.0 -0.00003             0.693147             1.791759   \n",
      "\n",
      "    ln_strikes_adj_lag3  d_lag1  d_lag2  d_lag3  \n",
      "0              0.693147     0.0     0.0     0.0  \n",
      "1              0.693147     1.0     0.0     0.0  \n",
      "2              1.098612     0.0     1.0     0.0  \n",
      "3              0.000000     0.0     0.0     1.0  \n",
      "4              1.609438     0.0     0.0     0.0  \n",
      "5              1.609438     0.0     0.0     0.0  \n",
      "6              0.000000     0.0     0.0     0.0  \n",
      "7              0.000000     0.0     0.0     0.0  \n",
      "8              0.000000     0.0     0.0     0.0  \n",
      "9              0.000000     0.0     0.0     0.0  \n",
      "10             2.079442     0.0     0.0     0.0  \n",
      "11             1.609438     0.0     0.0     0.0  \n",
      "12             2.197225     0.0     0.0     0.0  \n",
      "13             1.791759     0.0     0.0     0.0  \n",
      "14             1.098612     0.0     0.0     0.0  \n",
      "15             1.386294     0.0     0.0     0.0  \n"
     ]
    }
   ],
   "source": [
    "y_test, X_test = dmatrices(expr, strikes_data_test, return_type='dataframe')\n",
    "print(y_test)\n",
    "print(X_test)"
   ]
  },
  {
   "cell_type": "code",
   "execution_count": 25,
   "metadata": {},
   "outputs": [],
   "source": [
    "poisson_predictions = poisson_model_results.predict(X_test)"
   ]
  },
  {
   "cell_type": "code",
   "execution_count": 26,
   "metadata": {},
   "outputs": [
    {
     "data": {
      "image/png": "[encoded data removed]",
      "text/plain": [
       "<Figure size 432x288 with 1 Axes>"
      ]
     },
     "metadata": {
      "needs_background": "light"
     },
     "output_type": "display_data"
    }
   ],
   "source": [
    "predicted_counts=poisson_predictions\n",
    "actual_counts = y_test['strikes']\n",
    "fig = plt.figure()\n",
    "fig.suptitle('Predicted versus actual strike counts')\n",
    "predicted, = plt.plot(X_test.index, predicted_counts, 'go-', label='Predicted counts')\n",
    "actual, = plt.plot(X_test.index, actual_counts, 'ro-', label='Actual counts')\n",
    "plt.legend(handles=[predicted, actual])\n",
    "plt.show()"
   ]
  }
 ],
 "metadata": {
  "kernelspec": {
   "display_name": "Python 3",
   "language": "python",
   "name": "python3"
  },
  "language_info": {
   "codemirror_mode": {
    "name": "ipython",
    "version": 3
   },
   "file_extension": ".py",
   "mimetype": "text/x-python",
   "name": "python",
   "nbconvert_exporter": "python",
   "pygments_lexer": "ipython3",
   "version": "3.8.3"
  }
 },
 "nbformat": 4,
 "nbformat_minor": 4
}
