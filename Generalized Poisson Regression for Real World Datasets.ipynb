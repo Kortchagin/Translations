{
 "cells": [
  {
   "cell_type": "code",
   "execution_count": null,
   "metadata": {},
   "outputs": [],
   "source": [
    "import pandas as pd\n",
    "from patsy import dmatrices\n",
    "import numpy as np\n",
    "import statsmodels.api as sm\n",
    "import matplotlib.pyplot as plt"
   ]
  },
  {
   "cell_type": "code",
   "execution_count": null,
   "metadata": {},
   "outputs": [],
   "source": [
    "#Create a pandas DataFrame for the counts data set.\n",
    "df = pd.read_csv('nyc_bb_bicyclist_counts.csv', header=0, infer_datetime_format=True, parse_dates=[0], index_col=[0])\n",
    "\n",
    "#We'll add a few derived regression variables to the X matrix.\n",
    "ds = df.index.to_series()\n",
    "df['MONTH'] = ds.dt.month\n",
    "df['DAY_OF_WEEK'] = ds.dt.dayofweek\n",
    "df['DAY'] = ds.dt.day\n",
    "\n",
    "#Let's print out the first few rows of our data set to see how it looks like\n",
    "print(df.head(10))"
   ]
  },
  {
   "cell_type": "code",
   "execution_count": null,
   "metadata": {},
   "outputs": [],
   "source": [
    "#Let's create the training and testing data sets.\n",
    "mask = np.random.rand(len(df)) < 0.8\n",
    "df_train = df[mask]\n",
    "df_test = df[~mask]\n",
    "print('Training data set length='+str(len(df_train)))\n",
    "print('Testing data set length='+str(len(df_test)))"
   ]
  },
  {
   "cell_type": "code",
   "execution_count": null,
   "metadata": {},
   "outputs": [],
   "source": [
    "#Setup the regression expression in Patsy notation.\n",
    "#We are telling patsy that BB_COUNT is our dependent variable y and it depends on the regression variables X:\n",
    "#DAY, DAY_OF_WEEK, MONTH, HIGH_T, LOW_T and PRECIP.\n",
    "expr = 'BB_COUNT ~ DAY + DAY_OF_WEEK + MONTH + HIGH_T + LOW_T + PRECIP'\n",
    "\n",
    "#Let's use Patsy to carve out the X and y matrices for the training and testing data sets:\n",
    "y_train, X_train = dmatrices(expr, df_train, return_type='dataframe')\n",
    "y_test, X_test = dmatrices(expr, df_test, return_type='dataframe')"
   ]
  },
  {
   "cell_type": "code",
   "execution_count": null,
   "metadata": {},
   "outputs": [],
   "source": [
    "#Using the statsmodels GLM class, train the Poisson regression model on the training data set.\n",
    "poisson_training_results = sm.GLM(y_train, X_train, family=sm.families.Poisson()).fit()\n",
    "\n",
    "#Print the training summary.\n",
    "print(poisson_training_results.summary())"
   ]
  },
  {
   "cell_type": "code",
   "execution_count": null,
   "metadata": {},
   "outputs": [],
   "source": [
    "#Let's print out the variance and mean of the data set\n",
    "print('variance='+str(df['BB_COUNT'].var()))\n",
    "print('mean='+str(df['BB_COUNT'].mean()))"
   ]
  },
  {
   "cell_type": "code",
   "execution_count": null,
   "metadata": {},
   "outputs": [],
   "source": [
    "#Build Consul's Generalized Poison regression model, know as GP-1\n",
    "gen_poisson_gp1 = sm.GeneralizedPoisson(y_train, X_train, p=1)\n",
    "\n",
    "#Fit the model\n",
    "gen_poisson_gp1_results = gen_poisson_gp1.fit()\n",
    "\n",
    "#print the results\n",
    "print(gen_poisson_gp1_results.summary())"
   ]
  },
  {
   "cell_type": "code",
   "execution_count": null,
   "metadata": {},
   "outputs": [],
   "source": [
    "#Get the model's predictions on the test data set\n",
    "gen_poisson_gp1_predictions = gen_poisson_gp1_results.predict(X_test)\n",
    "\n",
    "predicted_counts=gen_poisson_gp1_predictions\n",
    "actual_counts = y_test['BB_COUNT']"
   ]
  },
  {
   "cell_type": "code",
   "execution_count": null,
   "metadata": {},
   "outputs": [],
   "source": [
    "fig = plt.figure()\n",
    "fig.suptitle('Predicted versus actual bicyclist counts on the Brooklyn bridge')\n",
    "predicted, = plt.plot(X_test.index, predicted_counts, 'go-', label='Predicted counts')\n",
    "actual, = plt.plot(X_test.index, actual_counts, 'ro-', label='Actual counts')\n",
    "plt.legend(handles=[predicted, actual])\n",
    "plt.show()"
   ]
  },
  {
   "cell_type": "code",
   "execution_count": null,
   "metadata": {},
   "outputs": [],
   "source": [
    "#Build Famoye's Restricted Generalized Poison regression model, know as GP-2\n",
    "gen_poisson_gp2 = sm.GeneralizedPoisson(y_train, X_train, p=2)\n",
    "\n",
    "#Fit the model\n",
    "gen_poisson_gp2_results = gen_poisson_gp2.fit()\n",
    "\n",
    "#print the results\n",
    "print(gen_poisson_gp2_results.summary())\n"
   ]
  }
 ],
 "metadata": {
  "kernelspec": {
   "display_name": "Python 3",
   "language": "python",
   "name": "python3"
  },
  "language_info": {
   "codemirror_mode": {
    "name": "ipython",
    "version": 3
   },
   "file_extension": ".py",
   "mimetype": "text/x-python",
   "name": "python",
   "nbconvert_exporter": "python",
   "pygments_lexer": "ipython3",
   "version": "3.8.3"
  }
 },
 "nbformat": 4,
 "nbformat_minor": 4
}
