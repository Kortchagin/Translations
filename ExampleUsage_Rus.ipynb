{
 "cells": [
  {
   "cell_type": "markdown",
   "metadata": {},
   "source": [
    "https://github.com/alan-turing-institute/xpandas/blob/master/examples/ExampleUsage.ipynb\n",
    "\n",
    "В этом блокноте представлены основные примеры использования пакета XPandas."
   ]
  },
  {
   "cell_type": "markdown",
   "metadata": {},
   "source": [
    "### Example dataset"
   ]
  },
  {
   "cell_type": "code",
   "execution_count": 1,
   "metadata": {},
   "outputs": [],
   "source": [
    "from io import BytesIO\n",
    "from zipfile import ZipFile\n",
    "from urllib.request import urlopen\n",
    "\n",
    "import numpy as np\n",
    "import pandas as pd\n",
    "import os, sys\n",
    "import requests\n",
    "\n",
    "sys.path.insert(0, '..')\n",
    "\n",
    "from xpandas.data_container import *\n",
    "from xpandas.transformers import TimeSeriesTransformer, TimeSeriesWindowTransformer"
   ]
  },
  {
   "cell_type": "markdown",
   "metadata": {},
   "source": [
    "Пример использует [открытый набор данных временного ряда](http://timeseriesclassification.com/Downloads/FordA.zip). \n",
    "\n",
    "*Примечание переводчика. Вместо файла FordA.csv, предполагаемого в примере, на ссылке содержится набор train, test файлов в форматах txt, arff и ts. При переводе для проверки кода из пары train, test файлов в формате txt был  собран FordA_2.csv. С учетом сказанного часть строк исходного кода исключена, а часть добавлена. Исключенные строки отмечены «###», добавленные - «###Добавлено».*\n",
    "\n",
    "Первое, что нам нужно сделать, это прочитать данные. Используем  функцию urlopen из Python библиотеки urllib для загрузки набора данных и ограничим длину каждой серии данных."
   ]
  },
  {
   "cell_type": "code",
   "execution_count": 2,
   "metadata": {},
   "outputs": [],
   "source": [
    "###url = \"http://localhost:8888/tree/Xpandas/FordA.zip\"\n",
    "series_offset = 505"
   ]
  },
  {
   "cell_type": "code",
   "execution_count": 3,
   "metadata": {
    "scrolled": true
   },
   "outputs": [],
   "source": [
    "###Добавлено\n",
    "zipfile = ZipFile('FordA_2.zip')\n",
    "lines = zipfile.open('FordA_2.csv').readlines()"
   ]
  },
  {
   "cell_type": "code",
   "execution_count": 4,
   "metadata": {},
   "outputs": [],
   "source": [
    "###url = urlopen(url)\n",
    "###zipfile = ZipFile(BytesIO(url.read()))\n",
    "###lines = zipfile.open('FordA/FordA.csv').readlines()\n",
    "lines = [l.decode('utf-8') for l in lines]\n",
    "lines = lines[series_offset:]"
   ]
  },
  {
   "cell_type": "markdown",
   "metadata": {},
   "source": [
    "``lines`` теперь является списком строк, представляющих временные ряды (последовательности) в формате с разделением запятыми, который можно преобразовать в числа с плавающей запятой."
   ]
  },
  {
   "cell_type": "code",
   "execution_count": 5,
   "metadata": {},
   "outputs": [],
   "source": [
    "lines = [list(map(float, l.split(','))) for l in lines]"
   ]
  },
  {
   "cell_type": "code",
   "execution_count": 6,
   "metadata": {},
   "outputs": [
    {
     "data": {
      "text/plain": [
       "[0.91200522,\n",
       " 0.92226619,\n",
       " 0.86658681,\n",
       " 0.76889267,\n",
       " 0.63734618,\n",
       " 0.48121473,\n",
       " 0.27536994,\n",
       " 0.01158427,\n",
       " -0.31442362,\n",
       " -0.68563769]"
      ]
     },
     "execution_count": 6,
     "metadata": {},
     "output_type": "execute_result"
    }
   ],
   "source": [
    "lines[0][:10]"
   ]
  },
  {
   "cell_type": "markdown",
   "metadata": {},
   "source": [
    "Преобразуем каждую вложенную строку в более удобный объект ``pandas.Series``."
   ]
  },
  {
   "cell_type": "code",
   "execution_count": 7,
   "metadata": {},
   "outputs": [],
   "source": [
    "lines = [pd.Series(l) for l in lines]"
   ]
  },
  {
   "cell_type": "code",
   "execution_count": 8,
   "metadata": {},
   "outputs": [],
   "source": [
    "###Добавлено\n",
    "### Удалены последние элементы, являющиеся в FordA_2.csv значениями целевой переменной. \n",
    "### Далее в исходном коде эти элементы будут созданы заново."
   ]
  },
  {
   "cell_type": "code",
   "execution_count": 9,
   "metadata": {},
   "outputs": [],
   "source": [
    "for l in range(len(lines[0])):\n",
    "    del lines[l][500]"
   ]
  },
  {
   "cell_type": "markdown",
   "metadata": {},
   "source": [
    "# XPandas: Структуры данных"
   ]
  },
  {
   "cell_type": "markdown",
   "metadata": {},
   "source": [
    "### XSeries"
   ]
  },
  {
   "cell_type": "markdown",
   "metadata": {},
   "source": [
    "``XSeries`` – это 1d (одномерный) контейнер данных, в котором могут храниться любые объекты.\n",
    "\n",
    "Используя объекты ``pandas.Series``, можно инкапсулировать список ``lines`` в объект ``XSeries``. У объекта есть глобальный индекс рядов и подиндекс для каждого ``pandas.Series``."
   ]
  },
  {
   "cell_type": "code",
   "execution_count": 10,
   "metadata": {},
   "outputs": [],
   "source": [
    "X = XSeries(lines)"
   ]
  },
  {
   "cell_type": "code",
   "execution_count": 11,
   "metadata": {},
   "outputs": [
    {
     "data": {
      "text/plain": [
       "0    0      0.912005\n",
       "1      0.922266\n",
       "2      0.86658...\n",
       "1    0     -0.307891\n",
       "1     -0.016875\n",
       "2      0.28940...\n",
       "2    0     -0.887613\n",
       "1     -0.939291\n",
       "2     -0.89332...\n",
       "3    0     -0.824560\n",
       "1     -0.231051\n",
       "2      0.54142...\n",
       "4    0      0.484706\n",
       "1      0.367138\n",
       "2      0.11493...\n",
       "dtype: object"
      ]
     },
     "execution_count": 11,
     "metadata": {},
     "output_type": "execute_result"
    }
   ],
   "source": [
    "X.head()"
   ]
  },
  {
   "cell_type": "markdown",
   "metadata": {},
   "source": [
    "Видим тип данных объекта ``XSeries``, который содержит тип включенных объектов, в данном случае, ``pandas.Series``. Таким образом ``XSeries`` создается из ``pandas.Series``. В частности, ``X`` поддерживает все методы встроенного в него объекта ``pandas.Series``."
   ]
  },
  {
   "cell_type": "markdown",
   "metadata": {},
   "source": [
    "### XDataFrame"
   ]
  },
  {
   "cell_type": "markdown",
   "metadata": {},
   "source": [
    "``XDataFrame`` – это абстрактный 2d (двумерный) контейнер, который основан на ``pandas.DataFrame`` и хранит объекты ``XSeries``.\n",
    "\n",
    "Основная особенность ``XDataFrame`` – это столбцы ``XSeries``, которые могут содержать любой тип данных. Например, это может быть набор данных, состоящий из последовательностей, изображений, текста, простых чисел или даже настраиваемых объектов. В идеале мы хотели бы обрабатывать такие разные типы данных в едином контейнере двумерных данных, например, реализовать цепочку преобразований для создания простой 2d матрицы обучающих данных.\n",
    "\n",
    "Следующие примеры иллюстрируют такой процесс ``XDataFrame``.\n",
    "Пусть ``Y`` – вектор меток для каждой строки.\n",
    "\n",
    "``XDataFrame`` is an abstract 2d container that is based on ``pandas.DataFrame`` and stores ``XSeries`` objects."
   ]
  },
  {
   "cell_type": "code",
   "execution_count": 12,
   "metadata": {},
   "outputs": [],
   "source": [
    "Y = np.random.binomial(1, 0.5, X.shape[0])\n",
    "Y = XSeries(Y)"
   ]
  },
  {
   "cell_type": "code",
   "execution_count": 13,
   "metadata": {},
   "outputs": [
    {
     "data": {
      "text/plain": [
       "0    0\n",
       "1    1\n",
       "2    1\n",
       "3    1\n",
       "4    0\n",
       "dtype: int32"
      ]
     },
     "execution_count": 13,
     "metadata": {},
     "output_type": "execute_result"
    }
   ],
   "source": [
    "Y.head()"
   ]
  },
  {
   "cell_type": "code",
   "execution_count": 14,
   "metadata": {},
   "outputs": [],
   "source": [
    "df = XDataFrame({\n",
    "    'X': X,\n",
    "    'Y': Y\n",
    "})"
   ]
  },
  {
   "cell_type": "code",
   "execution_count": 15,
   "metadata": {},
   "outputs": [
    {
     "data": {
      "text/html": [
       "<div>\n",
       "<style scoped>\n",
       "    .dataframe tbody tr th:only-of-type {\n",
       "        vertical-align: middle;\n",
       "    }\n",
       "\n",
       "    .dataframe tbody tr th {\n",
       "        vertical-align: top;\n",
       "    }\n",
       "\n",
       "    .dataframe thead th {\n",
       "        text-align: right;\n",
       "    }\n",
       "</style>\n",
       "<table border=\"1\" class=\"dataframe\">\n",
       "  <thead>\n",
       "    <tr style=\"text-align: right;\">\n",
       "      <th></th>\n",
       "      <th>X</th>\n",
       "      <th>Y</th>\n",
       "    </tr>\n",
       "  </thead>\n",
       "  <tbody>\n",
       "    <tr>\n",
       "      <th>0</th>\n",
       "      <td>0      0.912005\n",
       "1      0.922266\n",
       "2      0.86658...</td>\n",
       "      <td>0</td>\n",
       "    </tr>\n",
       "    <tr>\n",
       "      <th>1</th>\n",
       "      <td>0     -0.307891\n",
       "1     -0.016875\n",
       "2      0.28940...</td>\n",
       "      <td>1</td>\n",
       "    </tr>\n",
       "    <tr>\n",
       "      <th>2</th>\n",
       "      <td>0     -0.887613\n",
       "1     -0.939291\n",
       "2     -0.89332...</td>\n",
       "      <td>1</td>\n",
       "    </tr>\n",
       "    <tr>\n",
       "      <th>3</th>\n",
       "      <td>0     -0.824560\n",
       "1     -0.231051\n",
       "2      0.54142...</td>\n",
       "      <td>1</td>\n",
       "    </tr>\n",
       "    <tr>\n",
       "      <th>4</th>\n",
       "      <td>0      0.484706\n",
       "1      0.367138\n",
       "2      0.11493...</td>\n",
       "      <td>0</td>\n",
       "    </tr>\n",
       "  </tbody>\n",
       "</table>\n",
       "</div>"
      ],
      "text/plain": [
       "                                                   X  Y\n",
       "0  0      0.912005\n",
       "1      0.922266\n",
       "2      0.86658...  0\n",
       "1  0     -0.307891\n",
       "1     -0.016875\n",
       "2      0.28940...  1\n",
       "2  0     -0.887613\n",
       "1     -0.939291\n",
       "2     -0.89332...  1\n",
       "3  0     -0.824560\n",
       "1     -0.231051\n",
       "2      0.54142...  1\n",
       "4  0      0.484706\n",
       "1      0.367138\n",
       "2      0.11493...  0"
      ]
     },
     "execution_count": 15,
     "metadata": {},
     "output_type": "execute_result"
    }
   ],
   "source": [
    "df.head()"
   ]
  },
  {
   "cell_type": "markdown",
   "metadata": {},
   "source": [
    "Добавим новый столбец в ``XDataFrame``"
   ]
  },
  {
   "cell_type": "code",
   "execution_count": 16,
   "metadata": {},
   "outputs": [],
   "source": [
    "df['X_1'] = XSeries([\n",
    "    pd.Series(np.random.normal(size=100))\n",
    "    for _ in range(X.shape[0])\n",
    "])"
   ]
  },
  {
   "cell_type": "code",
   "execution_count": 17,
   "metadata": {},
   "outputs": [
    {
     "data": {
      "text/html": [
       "<div>\n",
       "<style scoped>\n",
       "    .dataframe tbody tr th:only-of-type {\n",
       "        vertical-align: middle;\n",
       "    }\n",
       "\n",
       "    .dataframe tbody tr th {\n",
       "        vertical-align: top;\n",
       "    }\n",
       "\n",
       "    .dataframe thead th {\n",
       "        text-align: right;\n",
       "    }\n",
       "</style>\n",
       "<table border=\"1\" class=\"dataframe\">\n",
       "  <thead>\n",
       "    <tr style=\"text-align: right;\">\n",
       "      <th></th>\n",
       "      <th>X</th>\n",
       "      <th>Y</th>\n",
       "      <th>X_1</th>\n",
       "    </tr>\n",
       "  </thead>\n",
       "  <tbody>\n",
       "    <tr>\n",
       "      <th>0</th>\n",
       "      <td>0      0.912005\n",
       "1      0.922266\n",
       "2      0.86658...</td>\n",
       "      <td>0</td>\n",
       "      <td>0     0.633648\n",
       "1    -2.208455\n",
       "2    -2.434117\n",
       "3...</td>\n",
       "    </tr>\n",
       "    <tr>\n",
       "      <th>1</th>\n",
       "      <td>0     -0.307891\n",
       "1     -0.016875\n",
       "2      0.28940...</td>\n",
       "      <td>1</td>\n",
       "      <td>0    -1.872062\n",
       "1     1.312424\n",
       "2    -0.495028\n",
       "3...</td>\n",
       "    </tr>\n",
       "    <tr>\n",
       "      <th>2</th>\n",
       "      <td>0     -0.887613\n",
       "1     -0.939291\n",
       "2     -0.89332...</td>\n",
       "      <td>1</td>\n",
       "      <td>0     0.384492\n",
       "1    -1.244785\n",
       "2    -0.387186\n",
       "3...</td>\n",
       "    </tr>\n",
       "    <tr>\n",
       "      <th>3</th>\n",
       "      <td>0     -0.824560\n",
       "1     -0.231051\n",
       "2      0.54142...</td>\n",
       "      <td>1</td>\n",
       "      <td>0     0.030931\n",
       "1    -1.494072\n",
       "2    -0.852727\n",
       "3...</td>\n",
       "    </tr>\n",
       "    <tr>\n",
       "      <th>4</th>\n",
       "      <td>0      0.484706\n",
       "1      0.367138\n",
       "2      0.11493...</td>\n",
       "      <td>0</td>\n",
       "      <td>0     0.265030\n",
       "1     1.249638\n",
       "2    -1.662275\n",
       "3...</td>\n",
       "    </tr>\n",
       "  </tbody>\n",
       "</table>\n",
       "</div>"
      ],
      "text/plain": [
       "                                                   X  Y  \\\n",
       "0  0      0.912005\n",
       "1      0.922266\n",
       "2      0.86658...  0   \n",
       "1  0     -0.307891\n",
       "1     -0.016875\n",
       "2      0.28940...  1   \n",
       "2  0     -0.887613\n",
       "1     -0.939291\n",
       "2     -0.89332...  1   \n",
       "3  0     -0.824560\n",
       "1     -0.231051\n",
       "2      0.54142...  1   \n",
       "4  0      0.484706\n",
       "1      0.367138\n",
       "2      0.11493...  0   \n",
       "\n",
       "                                                 X_1  \n",
       "0  0     0.633648\n",
       "1    -2.208455\n",
       "2    -2.434117\n",
       "3...  \n",
       "1  0    -1.872062\n",
       "1     1.312424\n",
       "2    -0.495028\n",
       "3...  \n",
       "2  0     0.384492\n",
       "1    -1.244785\n",
       "2    -0.387186\n",
       "3...  \n",
       "3  0     0.030931\n",
       "1    -1.494072\n",
       "2    -0.852727\n",
       "3...  \n",
       "4  0     0.265030\n",
       "1     1.249638\n",
       "2    -1.662275\n",
       "3...  "
      ]
     },
     "execution_count": 17,
     "metadata": {},
     "output_type": "execute_result"
    }
   ],
   "source": [
    "df.head()"
   ]
  },
  {
   "cell_type": "markdown",
   "metadata": {},
   "source": [
    "# XPandas: Трансформеры"
   ]
  },
  {
   "cell_type": "markdown",
   "metadata": {},
   "source": [
    "Основная цель данного проекта – помощь в решении обычной задачи науки о данных по извлечению признаков из некоторых сложных объектов (например, последовательностей) перед собственно машинным обучением.\n",
    "\n",
    "Имея ``XSeries`` из ``pandas.Series`` можно было бы, к примеру, извлечь признаки из каждой последовательности. Именно здесь трансформеры играют жизненно важную роль.\n",
    "\n",
    "Каждый объект ``Transformer`` поддерживает те же методы ``fit, transform`` что и [преобразователи scikit-learn](http://scikit-learn.org/stable/data_transforms.html).\n",
    "\n",
    "Рассмотрим несколько примеров."
   ]
  },
  {
   "cell_type": "markdown",
   "metadata": {},
   "source": [
    "### TimeSeriesWindowTransformer\n",
    "\n",
    "Этот преобразователь вычисляет скользящее среднее с заданным размером окна."
   ]
  },
  {
   "cell_type": "code",
   "execution_count": 18,
   "metadata": {},
   "outputs": [],
   "source": [
    "tr = TimeSeriesWindowTransformer(windows_size=5)\n",
    "tr.fit(X)\n",
    "transformed_series = tr.transform(X)"
   ]
  },
  {
   "cell_type": "code",
   "execution_count": 19,
   "metadata": {},
   "outputs": [
    {
     "data": {
      "text/plain": [
       "0    4      0.821419\n",
       "5      0.735261\n",
       "6      0.60588...\n",
       "1    4      0.279993\n",
       "5      0.559200\n",
       "6      0.81733...\n",
       "2    4     -0.771043\n",
       "5     -0.590733\n",
       "6     -0.30311...\n",
       "3    4      0.601324\n",
       "5      1.314630\n",
       "6      1.95854...\n",
       "4    4      0.032147\n",
       "5     -0.251946\n",
       "6     -0.56853...\n",
       "dtype: object"
      ]
     },
     "execution_count": 19,
     "metadata": {},
     "output_type": "execute_result"
    }
   ],
   "source": [
    "transformed_series.head()"
   ]
  },
  {
   "cell_type": "markdown",
   "metadata": {},
   "source": [
    "Конечно же, при windows_size = 5 первые 4 элемента – NaN."
   ]
  },
  {
   "cell_type": "code",
   "execution_count": 20,
   "metadata": {},
   "outputs": [
    {
     "data": {
      "text/plain": [
       "4     0.821419\n",
       "5     0.735261\n",
       "6     0.605882\n",
       "7     0.434882\n",
       "8     0.218218\n",
       "9    -0.046378\n",
       "10   -0.353945\n",
       "11   -0.681472\n",
       "12   -0.989739\n",
       "13   -1.224680\n",
       "dtype: float64"
      ]
     },
     "execution_count": 20,
     "metadata": {},
     "output_type": "execute_result"
    }
   ],
   "source": [
    "transformed_series[0].head(10)"
   ]
  },
  {
   "cell_type": "markdown",
   "metadata": {},
   "source": [
    "### TimeSeriesTransformer\n",
    "\n",
    "Попробуем другой трансформер, наверное, самый распространенный. Он извлекает из каждой ``pandas.Series`` несколько количественных характеристик, таких как среднее, стандартное (среднеквадратичное) отклонение, квантили. Можно создать свой собственный список характеристик. В результате получаем объект ``XDataFrame``."
   ]
  },
  {
   "cell_type": "code",
   "execution_count": 21,
   "metadata": {},
   "outputs": [],
   "source": [
    "tr = TimeSeriesTransformer()\n",
    "tr.fit(X)\n",
    "transformed_series = tr.transform(X)"
   ]
  },
  {
   "cell_type": "code",
   "execution_count": 22,
   "metadata": {},
   "outputs": [
    {
     "data": {
      "text/plain": [
       "xpandas.data_container.data_container.XDataFrame"
      ]
     },
     "execution_count": 22,
     "metadata": {},
     "output_type": "execute_result"
    }
   ],
   "source": [
    "type(transformed_series)"
   ]
  },
  {
   "cell_type": "code",
   "execution_count": 23,
   "metadata": {},
   "outputs": [
    {
     "data": {
      "text/html": [
       "<div>\n",
       "<style scoped>\n",
       "    .dataframe tbody tr th:only-of-type {\n",
       "        vertical-align: middle;\n",
       "    }\n",
       "\n",
       "    .dataframe tbody tr th {\n",
       "        vertical-align: top;\n",
       "    }\n",
       "\n",
       "    .dataframe thead th {\n",
       "        text-align: right;\n",
       "    }\n",
       "</style>\n",
       "<table border=\"1\" class=\"dataframe\">\n",
       "  <thead>\n",
       "    <tr style=\"text-align: right;\">\n",
       "      <th></th>\n",
       "      <th>None_TimeSeriesTransformer_mean</th>\n",
       "      <th>None_TimeSeriesTransformer_std</th>\n",
       "      <th>None_TimeSeriesTransformer_max</th>\n",
       "      <th>None_TimeSeriesTransformer_min</th>\n",
       "      <th>None_TimeSeriesTransformer_median</th>\n",
       "    </tr>\n",
       "  </thead>\n",
       "  <tbody>\n",
       "    <tr>\n",
       "      <th>0</th>\n",
       "      <td>5.120000e-11</td>\n",
       "      <td>1.0</td>\n",
       "      <td>2.900807</td>\n",
       "      <td>-4.224172</td>\n",
       "      <td>0.015260</td>\n",
       "    </tr>\n",
       "    <tr>\n",
       "      <th>1</th>\n",
       "      <td>1.666000e-10</td>\n",
       "      <td>1.0</td>\n",
       "      <td>2.257974</td>\n",
       "      <td>-2.750389</td>\n",
       "      <td>-0.076291</td>\n",
       "    </tr>\n",
       "    <tr>\n",
       "      <th>2</th>\n",
       "      <td>-6.162000e-10</td>\n",
       "      <td>1.0</td>\n",
       "      <td>2.315894</td>\n",
       "      <td>-2.626029</td>\n",
       "      <td>0.021814</td>\n",
       "    </tr>\n",
       "    <tr>\n",
       "      <th>3</th>\n",
       "      <td>1.147334e-09</td>\n",
       "      <td>1.0</td>\n",
       "      <td>2.988510</td>\n",
       "      <td>-2.325682</td>\n",
       "      <td>-0.031677</td>\n",
       "    </tr>\n",
       "    <tr>\n",
       "      <th>4</th>\n",
       "      <td>4.640000e-10</td>\n",
       "      <td>1.0</td>\n",
       "      <td>2.670425</td>\n",
       "      <td>-2.323600</td>\n",
       "      <td>0.116048</td>\n",
       "    </tr>\n",
       "  </tbody>\n",
       "</table>\n",
       "</div>"
      ],
      "text/plain": [
       "   None_TimeSeriesTransformer_mean  None_TimeSeriesTransformer_std  \\\n",
       "0                     5.120000e-11                             1.0   \n",
       "1                     1.666000e-10                             1.0   \n",
       "2                    -6.162000e-10                             1.0   \n",
       "3                     1.147334e-09                             1.0   \n",
       "4                     4.640000e-10                             1.0   \n",
       "\n",
       "   None_TimeSeriesTransformer_max  None_TimeSeriesTransformer_min  \\\n",
       "0                        2.900807                       -4.224172   \n",
       "1                        2.257974                       -2.750389   \n",
       "2                        2.315894                       -2.626029   \n",
       "3                        2.988510                       -2.325682   \n",
       "4                        2.670425                       -2.323600   \n",
       "\n",
       "   None_TimeSeriesTransformer_median  \n",
       "0                           0.015260  \n",
       "1                          -0.076291  \n",
       "2                           0.021814  \n",
       "3                          -0.031677  \n",
       "4                           0.116048  "
      ]
     },
     "execution_count": 23,
     "metadata": {},
     "output_type": "execute_result"
    }
   ],
   "source": [
    "transformed_series.head().iloc[:, :5]"
   ]
  },
  {
   "cell_type": "markdown",
   "metadata": {},
   "source": [
    "Также можем использовать трансформер TSFresh.\n",
    "\n",
    "*Примечание переводчика. К сожалению не удалось исправить ошибку, возникающую при выполнении кода с TSFresh. Поэтому несколько строк отмечены ###*"
   ]
  },
  {
   "cell_type": "code",
   "execution_count": 24,
   "metadata": {},
   "outputs": [],
   "source": [
    "###from xpandas.transformers import TsFreshSeriesTransformer"
   ]
  },
  {
   "cell_type": "code",
   "execution_count": 25,
   "metadata": {},
   "outputs": [],
   "source": [
    "###tr = TsFreshSeriesTransformer()\n",
    "###tr.fit(X.head())\n",
    "###transformed_series = tr.transform(X.head())"
   ]
  },
  {
   "cell_type": "code",
   "execution_count": 26,
   "metadata": {},
   "outputs": [],
   "source": [
    "###transformed_series.head().iloc[:, :3]"
   ]
  },
  {
   "cell_type": "markdown",
   "metadata": {},
   "source": [
    "### Встроенный пользовательскийтрансформер"
   ]
  },
  {
   "cell_type": "markdown",
   "metadata": {},
   "source": [
    "Можно создать встроенный трансформер ``CustomTransfomer`` как, например"
   ]
  },
  {
   "cell_type": "code",
   "execution_count": 27,
   "metadata": {},
   "outputs": [],
   "source": [
    "from xpandas.transformers import XSeriesTransformer"
   ]
  },
  {
   "cell_type": "code",
   "execution_count": 28,
   "metadata": {},
   "outputs": [],
   "source": [
    "my_awesome_transfomer = XSeriesTransformer(transform_function=lambda x: x.std())"
   ]
  },
  {
   "cell_type": "code",
   "execution_count": 29,
   "metadata": {},
   "outputs": [
    {
     "data": {
      "text/plain": [
       "XSeriesTransformer(name='XSeriesTransformer',\n",
       "                   transform_function=<function <lambda> at 0x000001B1AF91FF70>)"
      ]
     },
     "execution_count": 29,
     "metadata": {},
     "output_type": "execute_result"
    }
   ],
   "source": [
    "my_awesome_transfomer.fit(X)"
   ]
  },
  {
   "cell_type": "code",
   "execution_count": 30,
   "metadata": {},
   "outputs": [
    {
     "data": {
      "text/plain": [
       "0    1.0\n",
       "1    1.0\n",
       "2    1.0\n",
       "3    1.0\n",
       "4    1.0\n",
       "5    1.0\n",
       "6    1.0\n",
       "7    1.0\n",
       "8    1.0\n",
       "9    1.0\n",
       "dtype: float64"
      ]
     },
     "execution_count": 30,
     "metadata": {},
     "output_type": "execute_result"
    }
   ],
   "source": [
    "my_awesome_transfomer.transform(X).head(10)"
   ]
  },
  {
   "cell_type": "markdown",
   "metadata": {},
   "source": [
    "Если необходимо создать собственный трансформер со сложной логикой, исследуйте внутреннюю реализацию трансформеров."
   ]
  },
  {
   "cell_type": "markdown",
   "metadata": {},
   "source": [
    "## XDataFrame transformer"
   ]
  },
  {
   "cell_type": "markdown",
   "metadata": {},
   "source": [
    "Чтобы преобразовать **XDataFrame** , необходимо указать логику преобразования для столбцов, которые должны быть преобразованы с помощью **XDataFrameTransformer**.\n",
    "\n",
    "Конструктор **XDataFrameTransformer** получает на вход словарь соответствия (mapping dictionary) {col_name: XSeries transformer}.\n",
    "\n",
    "Например, применим **TimeSeriesWindowTransformer** к столбцу X и **TimeSeriesTransformer** к столбцу X_1.\n",
    "\n",
    "При применении преобразования к столбцу он заменяется на преобразованный."
   ]
  },
  {
   "cell_type": "code",
   "execution_count": 31,
   "metadata": {},
   "outputs": [],
   "source": [
    "from xpandas.transformers import XDataFrameTransformer"
   ]
  },
  {
   "cell_type": "code",
   "execution_count": 32,
   "metadata": {},
   "outputs": [],
   "source": [
    "df_transformer = XDataFrameTransformer({\n",
    "    'X': TimeSeriesWindowTransformer(windows_size=4),\n",
    "    'X_1': TimeSeriesTransformer()\n",
    "})"
   ]
  },
  {
   "cell_type": "code",
   "execution_count": 33,
   "metadata": {},
   "outputs": [
    {
     "name": "stderr",
     "output_type": "stream",
     "text": [
      "C:\\Users\\Dell\\anaconda3\\lib\\site-packages\\sklearn\\base.py:209: FutureWarning: From version 0.24, get_params will raise an AttributeError if a parameter cannot be retrieved as an instance attribute. Previously it would return None.\n",
      "  warnings.warn('From version 0.24, get_params will raise an '\n"
     ]
    },
    {
     "data": {
      "text/plain": [
       "XDataFrameTransformer(transformations={'X': [TimeSeriesWindowTransformer(windows_size=4)],\n",
       "                                       'X_1': [TimeSeriesTransformer()]})"
      ]
     },
     "execution_count": 33,
     "metadata": {},
     "output_type": "execute_result"
    }
   ],
   "source": [
    "df_transformer.fit(df)"
   ]
  },
  {
   "cell_type": "code",
   "execution_count": 34,
   "metadata": {},
   "outputs": [],
   "source": [
    "transformed_df = df_transformer.transform(df)"
   ]
  },
  {
   "cell_type": "code",
   "execution_count": 35,
   "metadata": {},
   "outputs": [
    {
     "data": {
      "text/html": [
       "<div>\n",
       "<style scoped>\n",
       "    .dataframe tbody tr th:only-of-type {\n",
       "        vertical-align: middle;\n",
       "    }\n",
       "\n",
       "    .dataframe tbody tr th {\n",
       "        vertical-align: top;\n",
       "    }\n",
       "\n",
       "    .dataframe thead th {\n",
       "        text-align: right;\n",
       "    }\n",
       "</style>\n",
       "<table border=\"1\" class=\"dataframe\">\n",
       "  <thead>\n",
       "    <tr style=\"text-align: right;\">\n",
       "      <th></th>\n",
       "      <th>X_TimeSeriesWindowTransformer</th>\n",
       "      <th>Y</th>\n",
       "      <th>X_1_TimeSeriesTransformer_mean</th>\n",
       "      <th>X_1_TimeSeriesTransformer_std</th>\n",
       "      <th>X_1_TimeSeriesTransformer_max</th>\n",
       "    </tr>\n",
       "  </thead>\n",
       "  <tbody>\n",
       "    <tr>\n",
       "      <th>0</th>\n",
       "      <td>3      0.867438\n",
       "4      0.798773\n",
       "5      0.68851...</td>\n",
       "      <td>0</td>\n",
       "      <td>-0.057699</td>\n",
       "      <td>1.000694</td>\n",
       "      <td>2.110093</td>\n",
       "    </tr>\n",
       "    <tr>\n",
       "      <th>1</th>\n",
       "      <td>3      0.137673\n",
       "4      0.426965\n",
       "5      0.70321...</td>\n",
       "      <td>1</td>\n",
       "      <td>-0.029061</td>\n",
       "      <td>0.971750</td>\n",
       "      <td>2.309251</td>\n",
       "    </tr>\n",
       "    <tr>\n",
       "      <th>2</th>\n",
       "      <td>3     -0.860246\n",
       "4     -0.741900\n",
       "5     -0.50359...</td>\n",
       "      <td>1</td>\n",
       "      <td>-0.175531</td>\n",
       "      <td>1.014078</td>\n",
       "      <td>2.177514</td>\n",
       "    </tr>\n",
       "    <tr>\n",
       "      <th>3</th>\n",
       "      <td>3      0.214538\n",
       "4      0.957794\n",
       "5      1.70105...</td>\n",
       "      <td>1</td>\n",
       "      <td>0.037549</td>\n",
       "      <td>0.950775</td>\n",
       "      <td>2.408700</td>\n",
       "    </tr>\n",
       "    <tr>\n",
       "      <th>4</th>\n",
       "      <td>3      0.186939\n",
       "4     -0.080993\n",
       "5     -0.40671...</td>\n",
       "      <td>0</td>\n",
       "      <td>-0.084881</td>\n",
       "      <td>1.083376</td>\n",
       "      <td>2.591736</td>\n",
       "    </tr>\n",
       "  </tbody>\n",
       "</table>\n",
       "</div>"
      ],
      "text/plain": [
       "                       X_TimeSeriesWindowTransformer  Y  \\\n",
       "0  3      0.867438\n",
       "4      0.798773\n",
       "5      0.68851...  0   \n",
       "1  3      0.137673\n",
       "4      0.426965\n",
       "5      0.70321...  1   \n",
       "2  3     -0.860246\n",
       "4     -0.741900\n",
       "5     -0.50359...  1   \n",
       "3  3      0.214538\n",
       "4      0.957794\n",
       "5      1.70105...  1   \n",
       "4  3      0.186939\n",
       "4     -0.080993\n",
       "5     -0.40671...  0   \n",
       "\n",
       "   X_1_TimeSeriesTransformer_mean  X_1_TimeSeriesTransformer_std  \\\n",
       "0                       -0.057699                       1.000694   \n",
       "1                       -0.029061                       0.971750   \n",
       "2                       -0.175531                       1.014078   \n",
       "3                        0.037549                       0.950775   \n",
       "4                       -0.084881                       1.083376   \n",
       "\n",
       "   X_1_TimeSeriesTransformer_max  \n",
       "0                       2.110093  \n",
       "1                       2.309251  \n",
       "2                       2.177514  \n",
       "3                       2.408700  \n",
       "4                       2.591736  "
      ]
     },
     "execution_count": 35,
     "metadata": {},
     "output_type": "execute_result"
    }
   ],
   "source": [
    "transformed_df.head().iloc[:, :5]"
   ]
  },
  {
   "cell_type": "markdown",
   "metadata": {},
   "source": [
    "## Pipeline transformer"
   ]
  },
  {
   "cell_type": "markdown",
   "metadata": {},
   "source": [
    "Что ж, преобразователи это хорошо, но возможно ли создавать [конвейеры](http://scikit-learn.org/stable/modules/generated/sklearn.pipeline.Pipeline.html), как в scikit-learn?\n",
    "\n",
    "Конечно! Давайте рассмотрим пример, где объединяются ``TimeSeriesTransformer`` и ``TimeSeriesWindowTransformer`` в объединенный конвейер, используя ``PipeLineChain``.\n",
    "\n",
    "Сначала посмотрим пример ``PipeLineChain`` с ``XSeries``, а затем с ``XDataFrame``."
   ]
  },
  {
   "cell_type": "code",
   "execution_count": 36,
   "metadata": {},
   "outputs": [],
   "source": [
    "from xpandas.transformers import PipeLineChain"
   ]
  },
  {
   "cell_type": "code",
   "execution_count": 37,
   "metadata": {},
   "outputs": [
    {
     "name": "stderr",
     "output_type": "stream",
     "text": [
      "C:\\Users\\Dell\\anaconda3\\lib\\site-packages\\sklearn\\base.py:209: FutureWarning: From version 0.24, get_params will raise an AttributeError if a parameter cannot be retrieved as an instance attribute. Previously it would return None.\n",
      "  warnings.warn('From version 0.24, get_params will raise an '\n"
     ]
    },
    {
     "data": {
      "text/plain": [
       "PipeLineChain(steps=[('moving average trans',\n",
       "                      TimeSeriesWindowTransformer(windows_size=5)),\n",
       "                     ('extract features', TimeSeriesTransformer())])"
      ]
     },
     "execution_count": 37,
     "metadata": {},
     "output_type": "execute_result"
    }
   ],
   "source": [
    "chain = PipeLineChain([\n",
    "    ('moving average trans', TimeSeriesWindowTransformer(windows_size=5)),\n",
    "    ('extract features', TimeSeriesTransformer())\n",
    "])\n",
    "chain.fit(X)"
   ]
  },
  {
   "cell_type": "code",
   "execution_count": 38,
   "metadata": {},
   "outputs": [
    {
     "data": {
      "text/plain": [
       "<bound method Pipeline.get_params of PipeLineChain(steps=[('moving average trans',\n",
       "                      TimeSeriesWindowTransformer(windows_size=5)),\n",
       "                     ('extract features', TimeSeriesTransformer())])>"
      ]
     },
     "execution_count": 38,
     "metadata": {},
     "output_type": "execute_result"
    }
   ],
   "source": [
    "chain.get_params"
   ]
  },
  {
   "cell_type": "code",
   "execution_count": 39,
   "metadata": {},
   "outputs": [],
   "source": [
    "transformed_X = chain.transform(X)"
   ]
  },
  {
   "cell_type": "code",
   "execution_count": 40,
   "metadata": {},
   "outputs": [
    {
     "data": {
      "text/html": [
       "<div>\n",
       "<style scoped>\n",
       "    .dataframe tbody tr th:only-of-type {\n",
       "        vertical-align: middle;\n",
       "    }\n",
       "\n",
       "    .dataframe tbody tr th {\n",
       "        vertical-align: top;\n",
       "    }\n",
       "\n",
       "    .dataframe thead th {\n",
       "        text-align: right;\n",
       "    }\n",
       "</style>\n",
       "<table border=\"1\" class=\"dataframe\">\n",
       "  <thead>\n",
       "    <tr style=\"text-align: right;\">\n",
       "      <th></th>\n",
       "      <th>None_TimeSeriesWindowTransformer_TimeSeriesTransformer_mean</th>\n",
       "      <th>None_TimeSeriesWindowTransformer_TimeSeriesTransformer_std</th>\n",
       "    </tr>\n",
       "  </thead>\n",
       "  <tbody>\n",
       "    <tr>\n",
       "      <th>0</th>\n",
       "      <td>0.002414</td>\n",
       "      <td>0.886138</td>\n",
       "    </tr>\n",
       "    <tr>\n",
       "      <th>1</th>\n",
       "      <td>-0.000379</td>\n",
       "      <td>0.905873</td>\n",
       "    </tr>\n",
       "    <tr>\n",
       "      <th>2</th>\n",
       "      <td>0.004289</td>\n",
       "      <td>0.933099</td>\n",
       "    </tr>\n",
       "    <tr>\n",
       "      <th>3</th>\n",
       "      <td>0.002512</td>\n",
       "      <td>0.882039</td>\n",
       "    </tr>\n",
       "    <tr>\n",
       "      <th>4</th>\n",
       "      <td>-0.004902</td>\n",
       "      <td>0.900216</td>\n",
       "    </tr>\n",
       "  </tbody>\n",
       "</table>\n",
       "</div>"
      ],
      "text/plain": [
       "   None_TimeSeriesWindowTransformer_TimeSeriesTransformer_mean  \\\n",
       "0                                           0.002414             \n",
       "1                                          -0.000379             \n",
       "2                                           0.004289             \n",
       "3                                           0.002512             \n",
       "4                                          -0.004902             \n",
       "\n",
       "   None_TimeSeriesWindowTransformer_TimeSeriesTransformer_std  \n",
       "0                                           0.886138           \n",
       "1                                           0.905873           \n",
       "2                                           0.933099           \n",
       "3                                           0.882039           \n",
       "4                                           0.900216           "
      ]
     },
     "execution_count": 40,
     "metadata": {},
     "output_type": "execute_result"
    }
   ],
   "source": [
    "transformed_X.head().iloc[:, :2]"
   ]
  },
  {
   "cell_type": "markdown",
   "metadata": {
    "collapsed": true
   },
   "source": [
    "Отлично! Попробуем добавить преобразователь из scikit-learn в ``PipeLineChain``. Например, применим PCA для transformed_X."
   ]
  },
  {
   "cell_type": "code",
   "execution_count": 41,
   "metadata": {},
   "outputs": [],
   "source": [
    "from sklearn.decomposition import PCA"
   ]
  },
  {
   "cell_type": "code",
   "execution_count": 42,
   "metadata": {},
   "outputs": [
    {
     "name": "stderr",
     "output_type": "stream",
     "text": [
      "C:\\Users\\Dell\\anaconda3\\lib\\site-packages\\sklearn\\base.py:209: FutureWarning: From version 0.24, get_params will raise an AttributeError if a parameter cannot be retrieved as an instance attribute. Previously it would return None.\n",
      "  warnings.warn('From version 0.24, get_params will raise an '\n"
     ]
    },
    {
     "data": {
      "text/plain": [
       "PipeLineChain(steps=[('moving average trans',\n",
       "                      TimeSeriesWindowTransformer(windows_size=5)),\n",
       "                     ('extract features', TimeSeriesTransformer()),\n",
       "                     ('pca', PCA(n_components=5))])"
      ]
     },
     "execution_count": 42,
     "metadata": {},
     "output_type": "execute_result"
    }
   ],
   "source": [
    "chain = PipeLineChain([\n",
    "    ('moving average trans', TimeSeriesWindowTransformer(windows_size=5)),\n",
    "    ('extract features', TimeSeriesTransformer()),\n",
    "    ('pca', PCA(n_components=5))\n",
    "])\n",
    "chain.fit(X)"
   ]
  },
  {
   "cell_type": "code",
   "execution_count": 43,
   "metadata": {},
   "outputs": [],
   "source": [
    "transformed_X = chain.transform(X)"
   ]
  },
  {
   "cell_type": "code",
   "execution_count": 44,
   "metadata": {},
   "outputs": [
    {
     "data": {
      "text/html": [
       "<div>\n",
       "<style scoped>\n",
       "    .dataframe tbody tr th:only-of-type {\n",
       "        vertical-align: middle;\n",
       "    }\n",
       "\n",
       "    .dataframe tbody tr th {\n",
       "        vertical-align: top;\n",
       "    }\n",
       "\n",
       "    .dataframe thead th {\n",
       "        text-align: right;\n",
       "    }\n",
       "</style>\n",
       "<table border=\"1\" class=\"dataframe\">\n",
       "  <thead>\n",
       "    <tr style=\"text-align: right;\">\n",
       "      <th></th>\n",
       "      <th>0</th>\n",
       "      <th>1</th>\n",
       "      <th>2</th>\n",
       "      <th>3</th>\n",
       "      <th>4</th>\n",
       "    </tr>\n",
       "  </thead>\n",
       "  <tbody>\n",
       "    <tr>\n",
       "      <th>0</th>\n",
       "      <td>1.129352</td>\n",
       "      <td>-0.738972</td>\n",
       "      <td>-0.012033</td>\n",
       "      <td>0.074599</td>\n",
       "      <td>0.007025</td>\n",
       "    </tr>\n",
       "    <tr>\n",
       "      <th>1</th>\n",
       "      <td>-0.198267</td>\n",
       "      <td>-0.342079</td>\n",
       "      <td>-0.082518</td>\n",
       "      <td>0.001834</td>\n",
       "      <td>-0.031451</td>\n",
       "    </tr>\n",
       "    <tr>\n",
       "      <th>2</th>\n",
       "      <td>-0.228682</td>\n",
       "      <td>-0.209318</td>\n",
       "      <td>-0.046778</td>\n",
       "      <td>-0.107703</td>\n",
       "      <td>-0.007085</td>\n",
       "    </tr>\n",
       "    <tr>\n",
       "      <th>3</th>\n",
       "      <td>-0.290770</td>\n",
       "      <td>0.466469</td>\n",
       "      <td>0.002260</td>\n",
       "      <td>-0.008628</td>\n",
       "      <td>-0.026071</td>\n",
       "    </tr>\n",
       "    <tr>\n",
       "      <th>4</th>\n",
       "      <td>-0.343227</td>\n",
       "      <td>0.221251</td>\n",
       "      <td>0.085504</td>\n",
       "      <td>0.106187</td>\n",
       "      <td>0.109666</td>\n",
       "    </tr>\n",
       "  </tbody>\n",
       "</table>\n",
       "</div>"
      ],
      "text/plain": [
       "          0         1         2         3         4\n",
       "0  1.129352 -0.738972 -0.012033  0.074599  0.007025\n",
       "1 -0.198267 -0.342079 -0.082518  0.001834 -0.031451\n",
       "2 -0.228682 -0.209318 -0.046778 -0.107703 -0.007085\n",
       "3 -0.290770  0.466469  0.002260 -0.008628 -0.026071\n",
       "4 -0.343227  0.221251  0.085504  0.106187  0.109666"
      ]
     },
     "execution_count": 44,
     "metadata": {},
     "output_type": "execute_result"
    }
   ],
   "source": [
    "transformed_X.head()"
   ]
  },
  {
   "cell_type": "markdown",
   "metadata": {},
   "source": [
    "Займемся еще более интересными делами! Добавим оценщика (estimator) из scikit-learn в конце PipeLineChain."
   ]
  },
  {
   "cell_type": "code",
   "execution_count": 45,
   "metadata": {},
   "outputs": [],
   "source": [
    "from sklearn.linear_model import LogisticRegression\n",
    "from sklearn.model_selection import train_test_split\n",
    "from sklearn.metrics import accuracy_score"
   ]
  },
  {
   "cell_type": "code",
   "execution_count": 46,
   "metadata": {},
   "outputs": [],
   "source": [
    "X_train, X_test, y_train, y_test = train_test_split(X, Y)"
   ]
  },
  {
   "cell_type": "markdown",
   "metadata": {},
   "source": [
    "Убедимся, что типы X_train и X_test – это XSeries."
   ]
  },
  {
   "cell_type": "code",
   "execution_count": 47,
   "metadata": {},
   "outputs": [
    {
     "name": "stdout",
     "output_type": "stream",
     "text": [
      "<class 'xpandas.data_container.data_container.XSeries'>\n",
      "<class 'xpandas.data_container.data_container.XSeries'>\n"
     ]
    }
   ],
   "source": [
    "print(type(X_train))\n",
    "print(type(X_test))"
   ]
  },
  {
   "cell_type": "code",
   "execution_count": 48,
   "metadata": {},
   "outputs": [],
   "source": [
    "chain = PipeLineChain([\n",
    "    ('moving average trans', TimeSeriesWindowTransformer(windows_size=5)),\n",
    "    ('extract features', TimeSeriesTransformer()),\n",
    "    ('pca', PCA(n_components=5)),\n",
    "    ('logit_regression', LogisticRegression())\n",
    "    \n",
    "])\n",
    "chain = chain.fit(X_train, y_train)"
   ]
  },
  {
   "cell_type": "code",
   "execution_count": 49,
   "metadata": {},
   "outputs": [],
   "source": [
    "prediction = chain.predict(X_test)"
   ]
  },
  {
   "cell_type": "code",
   "execution_count": 50,
   "metadata": {},
   "outputs": [
    {
     "data": {
      "text/plain": [
       "0.490036231884058"
      ]
     },
     "execution_count": 50,
     "metadata": {},
     "output_type": "execute_result"
    }
   ],
   "source": [
    "accuracy_score(y_test, prediction)"
   ]
  },
  {
   "cell_type": "markdown",
   "metadata": {},
   "source": [
    "Теперь попробуем ``PipeLineChain`` с ``XDataFrameTransformer``.\n",
    "Представим набор данных из столбцов признаков: пол (0 или 1), возраст (int), последовательность (pandas.Series), а также целевой переменной (0 или 1). Создадим, ``PipeLineChain`` который извлекает признаки из последовательностей, выполняет ``PCA`` для всего набора признаков, а затем выполняет LogitRegression."
   ]
  },
  {
   "cell_type": "code",
   "execution_count": 51,
   "metadata": {},
   "outputs": [],
   "source": [
    "n = 100\n",
    "\n",
    "df_features = XDataFrame({\n",
    "    'gender': XSeries(np.random.binomial(1, 0.7, n)),\n",
    "    'age': XSeries(np.random.poisson(25, n)),\n",
    "    'series': XSeries([\n",
    "        pd.Series(np.random.normal(size=500))\n",
    "    ] * n)\n",
    "})\n",
    "\n",
    "target = XSeries(np.random.binomial(1, 0.45, n))"
   ]
  },
  {
   "cell_type": "code",
   "execution_count": 52,
   "metadata": {},
   "outputs": [],
   "source": [
    "features_transformer = XDataFrameTransformer({\n",
    "    'series': TimeSeriesTransformer()\n",
    "})"
   ]
  },
  {
   "cell_type": "code",
   "execution_count": 53,
   "metadata": {},
   "outputs": [],
   "source": [
    "pipe_line = PipeLineChain([\n",
    "    ('extract_from_series', features_transformer),\n",
    "    ('pca', PCA(n_components=5)),\n",
    "    ('logit_regression', LogisticRegression())\n",
    "])"
   ]
  },
  {
   "cell_type": "code",
   "execution_count": 54,
   "metadata": {},
   "outputs": [],
   "source": [
    "df_features_train, df_features_test, \\\n",
    "        y_train, y_test = train_test_split(df_features, target)"
   ]
  },
  {
   "cell_type": "code",
   "execution_count": 55,
   "metadata": {},
   "outputs": [
    {
     "name": "stderr",
     "output_type": "stream",
     "text": [
      "C:\\Users\\Dell\\anaconda3\\lib\\site-packages\\sklearn\\base.py:209: FutureWarning: From version 0.24, get_params will raise an AttributeError if a parameter cannot be retrieved as an instance attribute. Previously it would return None.\n",
      "  warnings.warn('From version 0.24, get_params will raise an '\n"
     ]
    },
    {
     "data": {
      "text/plain": [
       "PipeLineChain(steps=[('extract_from_series',\n",
       "                      XDataFrameTransformer(transformations={'series': [TimeSeriesTransformer()]})),\n",
       "                     ('pca', PCA(n_components=5)),\n",
       "                     ('logit_regression', LogisticRegression())])"
      ]
     },
     "execution_count": 55,
     "metadata": {},
     "output_type": "execute_result"
    }
   ],
   "source": [
    "pipe_line.fit(df_features_train, y_train)"
   ]
  },
  {
   "cell_type": "code",
   "execution_count": 56,
   "metadata": {},
   "outputs": [
    {
     "data": {
      "text/plain": [
       "array([0, 1, 0, 0, 0, 0, 0, 0, 0, 0, 0, 0, 0, 0, 0, 0, 0, 0, 0, 0, 0, 1,\n",
       "       0, 0, 0])"
      ]
     },
     "execution_count": 56,
     "metadata": {},
     "output_type": "execute_result"
    }
   ],
   "source": [
    "pipe_line.predict(df_features_test)"
   ]
  }
 ],
 "metadata": {
  "kernelspec": {
   "display_name": "Python 3",
   "language": "python",
   "name": "python3"
  },
  "language_info": {
   "codemirror_mode": {
    "name": "ipython",
    "version": 3
   },
   "file_extension": ".py",
   "mimetype": "text/x-python",
   "name": "python",
   "nbconvert_exporter": "python",
   "pygments_lexer": "ipython3",
   "version": "3.8.3"
  }
 },
 "nbformat": 4,
 "nbformat_minor": 2
}
